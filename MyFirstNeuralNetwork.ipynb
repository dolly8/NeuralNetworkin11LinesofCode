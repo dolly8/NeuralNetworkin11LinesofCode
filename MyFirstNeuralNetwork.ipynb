{
 "cells": [
  {
   "cell_type": "markdown",
   "metadata": {},
   "source": [
    "#Here I created my simple first neural network by the help of tool numpy"
   ]
  },
  {
   "cell_type": "code",
   "execution_count": 3,
   "metadata": {
    "collapsed": true
   },
   "outputs": [],
   "source": [
    "from numpy import exp,array,dot,random"
   ]
  },
  {
   "cell_type": "code",
   "execution_count": 5,
   "metadata": {},
   "outputs": [
    {
     "name": "stdout",
     "output_type": "stream",
     "text": [
      "Random starting synaptic weights:\n",
      "New synaptic weights:\n",
      "Considering new situation -> [1, 0, 0]?\n",
      "[ 0.99993704]\n"
     ]
    }
   ],
   "source": [
    "#neural network class\n",
    "class NeuralNetwork():\n",
    "    def __init__(self):\n",
    "        #random number generator we use seed function to generate same number every time\n",
    "        random.seed(1)\n",
    "        \n",
    "        # we model neural network by giving random weights of 3 * 1 matrix\n",
    "        # it should be in the range of 0 to 1\n",
    "    \n",
    "        self.synaptic_weights = 2 * random.random((3,1)) - 1\n",
    "        \n",
    "    #now take sigmoid function, describes s shaped curve\n",
    "    # we pass the weighted sum of input through this function\n",
    "    # we normalize it between 0 and 1\n",
    "    def __sigmoid(self,x):\n",
    "        return 1/(1 + exp(-x))\n",
    "    \n",
    "    #derivative of sigmoid function\n",
    "    #gradient of sigmoid curve\n",
    "    # indicates how confident we are about existing weights\n",
    "    def __sigmoid_derivative(self, x):\n",
    "        return x * (1 - x)\n",
    "    \n",
    "    #Train the neural network through the process of trial and error\n",
    "    #Adjusting synaptic weights each time\n",
    "    def train(self, training_set_inputs, training_set_outputs, number_of_iterations):\n",
    "        for iteration in range(number_of_iterations):\n",
    "            #pass input values\n",
    "            output = self.think(training_set_inputs)\n",
    "            \n",
    "            #calculate the error\n",
    "            error = training_set_outputs - output\n",
    "            \n",
    "            #multiply the error by input and gradient of sigmoid curve\n",
    "            #This means less confident weights are adjusted more\n",
    "            adjustment = dot(training_set_inputs.T, error * self.__sigmoid_derivative(output))\n",
    "            \n",
    "            #weights are adjusted\n",
    "            self.synaptic_weights += adjustment\n",
    "            \n",
    "     #new neural netwrok thinks\n",
    "    def think(self, inputs):\n",
    "        #pass input through our neural network\n",
    "        return self.__sigmoid(dot(inputs,self.synaptic_weights))\n",
    "    \n",
    "    \n",
    "        \n",
    "        \n",
    "\n",
    "if __name__ == \"__main__\":\n",
    "    #Initialize a neural network\n",
    "    neural_network = NeuralNetwork()\n",
    "    \n",
    "    #weights initialization\n",
    "    print(\"Random starting synaptic weights:\")\n",
    "    #rint (neural_network.synaptic_weights)\n",
    "    neural_network.synaptic_weights\n",
    "    \n",
    "    #The training set we have four examples, with 3 inputs and 1 output\n",
    "    training_set_inputs = array([[0,0,1],[1,1,1],[1,0,1],[0,1,1]])\n",
    "    training_set_outputs = array([[0, 1, 1, 0]]).T\n",
    "    \n",
    "    # Train the neural network using a training set.\n",
    "    # Do it 10,000 times and make small adjustments each time.\n",
    "    neural_network.train(training_set_inputs, training_set_outputs, 10000)\n",
    "\n",
    "    \n",
    "    #new synaptic weights after training \n",
    "    print (\"New synaptic weights:\")\n",
    "   #print (neural_network.synaptic_weights)\n",
    "    neural_network.synaptic_weights\n",
    "    #new situation\n",
    "    print (\"Considering new situation -> [1, 0, 0]?\")\n",
    "    print(neural_network.think(array([1,0,0])))\n",
    "    \n",
    "    \n",
    "    \n",
    "    "
   ]
  },
  {
   "cell_type": "code",
   "execution_count": null,
   "metadata": {
    "collapsed": true
   },
   "outputs": [],
   "source": []
  },
  {
   "cell_type": "code",
   "execution_count": null,
   "metadata": {
    "collapsed": true
   },
   "outputs": [],
   "source": []
  }
 ],
 "metadata": {
  "kernelspec": {
   "display_name": "Python 3",
   "language": "python",
   "name": "python3"
  },
  "language_info": {
   "codemirror_mode": {
    "name": "ipython",
    "version": 3
   },
   "file_extension": ".py",
   "mimetype": "text/x-python",
   "name": "python",
   "nbconvert_exporter": "python",
   "pygments_lexer": "ipython3",
   "version": "3.6.2"
  }
 },
 "nbformat": 4,
 "nbformat_minor": 2
}
